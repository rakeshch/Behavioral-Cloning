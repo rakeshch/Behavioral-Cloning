{
 "cells": [
  {
   "cell_type": "code",
   "execution_count": 41,
   "metadata": {},
   "outputs": [
    {
     "name": "stdout",
     "output_type": "stream",
     "text": [
      "Epoch 1/5\n",
      "2592/2640 [============================>.] - ETA: 0s - loss: 0.0401"
     ]
    },
    {
     "name": "stderr",
     "output_type": "stream",
     "text": [
      "C:\\Users\\rakes\\Miniconda3\\envs\\carnd-term1\\lib\\site-packages\\keras\\engine\\training.py:1569: UserWarning: Epoch comprised more than `samples_per_epoch` samples, which might affect learning results. Set `samples_per_epoch` correctly to avoid this warning.\n",
      "  warnings.warn('Epoch comprised more than '\n"
     ]
    },
    {
     "name": "stdout",
     "output_type": "stream",
     "text": [
      "2688/2640 [==============================] - 49s - loss: 0.0402 - val_loss: 0.0283\n",
      "Epoch 2/5\n",
      "2688/2640 [==============================] - 47s - loss: 0.0333 - val_loss: 0.0368\n",
      "Epoch 3/5\n",
      "2640/2640 [==============================] - 45s - loss: 0.0279 - val_loss: 0.0241\n",
      "Epoch 4/5\n",
      "2688/2640 [==============================] - 47s - loss: 0.0287 - val_loss: 0.0275\n",
      "Epoch 5/5\n",
      "2688/2640 [==============================] - 49s - loss: 0.0260 - val_loss: 0.0195\n",
      "dict_keys(['val_loss', 'loss'])\n"
     ]
    },
    {
     "data": {
      "image/png": "[encoded data removed]",
      "text/plain": [
       "<matplotlib.figure.Figure at 0x227472ace80>"
      ]
     },
     "metadata": {},
     "output_type": "display_data"
    }
   ],
   "source": [
    "from sklearn.model_selection import train_test_split\n",
    "from keras.models import Sequential\n",
    "from keras.layers import Flatten, Dense, Lambda, Cropping2D\n",
    "from keras.layers.convolutional import Convolution2D\n",
    "from keras.layers.pooling import MaxPooling2D\n",
    "import matplotlib.pyplot as plt\n",
    "import numpy as np\n",
    "import sklearn\n",
    "import cv2\n",
    "import os\n",
    "import csv\n",
    "\n",
    "#Read all lines from csv file\n",
    "lines=[]\n",
    "with open('../data/driving_log.csv') as csvfile:\n",
    "    reader = csv.reader(csvfile)\n",
    "    for line in reader:\n",
    "        lines.append(line)\n",
    "\n",
    "#split data to train and validate\n",
    "train_samples, validation_samples = train_test_split(lines, test_size=0.2)\n",
    "\n",
    "#parameters to tune\n",
    "batchsize = 32\n",
    "correction = 0.2\n",
    "\n",
    "#using Generators to work with large amounts of data\n",
    "def generator(samples, batch_size):\n",
    "    num_samples = len(samples)\n",
    "    while 1: # Loop forever so the generator never terminates\n",
    "        np.random.shuffle(samples)\n",
    "        for offset in range(0, num_samples, batch_size):\n",
    "            batch_samples = samples[offset:offset+batch_size]\n",
    "            images=[]\n",
    "            measurements=[]\n",
    "            for batch_sample in batch_samples:\n",
    "                 #using images from left, center and right cameras\n",
    "                for i in range(3):\n",
    "                    source_path = batch_sample[i]\n",
    "                    filename = source_path.split('\\\\')[-1]\n",
    "                    current_path = '../data/IMG/' + filename\n",
    "                    #read image using the path\n",
    "                    image = cv2.imread(current_path)\n",
    "                    #convert the image to RGB colorspace as the image loaded by cv2 is a BGR colorspace \n",
    "                    image = cv2.cvtColor(image, cv2.COLOR_BGR2RGB)\n",
    "                    images.append(image)\n",
    "                    #read steering measurement\n",
    "                    measurement = float(batch_sample[3])\n",
    "                    #creating adjusted steering measurements for the side camera images\n",
    "                    #i=1: left image; i==2: right image\n",
    "                    if(i == 1):\n",
    "                        measurement += correction\n",
    "                    elif(i==2):\n",
    "                        measurement -= correction\n",
    "                    measurements.append(measurement)\n",
    "                    \n",
    "            #data augmentation: flipping images and taking opposite steering measurement\n",
    "            augmented_images, augmented_measurements = [], []\n",
    "            for image, measurement in zip(images, measurements):\n",
    "                augmented_images.append(image)\n",
    "                augmented_measurements.append(measurement)\n",
    "                augmented_images.append(cv2.flip(image,1))\n",
    "                augmented_measurements.append(-1.0 * measurement)\n",
    "\n",
    "            X_train = np.array(images)\n",
    "            y_train = np.array(measurements)\n",
    "            yield sklearn.utils.shuffle(X_train, y_train)\n",
    "\n",
    "# compile and train the model using the generator function\n",
    "train_generator = generator(train_samples, batchsize)\n",
    "validation_generator = generator(validation_samples, batchsize)\n",
    "\n",
    "#Using NVIDIA architecture: Normalization layer, 5 Convolutional, 4 fc layers\n",
    "#Creating sequential model using keras\n",
    "model = Sequential()\n",
    "\n",
    "#adding lambda layer to normalize input images\n",
    "# Preprocess incoming data, centered around zero with small standard deviation \n",
    "#Pass input_shape to the first layer\n",
    "model.add(Lambda(lambda x: x/255.0 - 0.5, input_shape=(160, 320, 3)))\n",
    "\n",
    "#Using Keras Cropping2D to crop input images simultaneously when making predictions\n",
    "#crop top pixels of image 70 rows, bottom 25 pixels, \n",
    "#0 from left and 0 from right\n",
    "model.add(Cropping2D(cropping=((70,25),(0,0))))\n",
    "\n",
    "model.add(Convolution2D(24,5,5, subsample=(2,2), activation=\"relu\"))\n",
    "model.add(Convolution2D(36,5,5, subsample=(2,2), activation=\"relu\"))\n",
    "model.add(Convolution2D(48,5,5, subsample=(2,2), activation=\"relu\"))\n",
    "model.add(Convolution2D(64,3,3,activation=\"relu\"))\n",
    "model.add(Convolution2D(64,3,3,activation=\"relu\"))\n",
    "model.add(Flatten())\n",
    "model.add(Dense(100))\n",
    "model.add(Dense(50))\n",
    "model.add(Dense(10))\n",
    "model.add(Dense(1))\n",
    "\n",
    "model.compile(loss='mse', optimizer='adam')\n",
    "#using model.fit_generator to output history object that contains training \n",
    "#and validation loss for each epoch\n",
    "history_object = model.fit_generator(train_generator, samples_per_epoch= len(train_samples),\n",
    "validation_data=validation_generator, nb_val_samples=len(validation_samples), nb_epoch=5, verbose=1)\n",
    "\n",
    "#save the model\n",
    "model.save('model.h5')\n",
    "\n",
    "### print the keys contained in the history object\n",
    "#print(history_object.history.keys())\n",
    "\n",
    "### plot the training and validation loss for each epoch\n",
    "plt.plot(history_object.history['loss'])\n",
    "plt.plot(history_object.history['val_loss'])\n",
    "plt.title('model mean squared error loss')\n",
    "plt.ylabel('mean squared error loss')\n",
    "plt.xlabel('epoch')\n",
    "plt.legend(['training set', 'validation set'], loc='upper right')\n",
    "plt.show()\n"
   ]
  }
 ],
 "metadata": {
  "kernelspec": {
   "display_name": "Python 3",
   "language": "python",
   "name": "python3"
  },
  "language_info": {
   "codemirror_mode": {
    "name": "ipython",
    "version": 3
   },
   "file_extension": ".py",
   "mimetype": "text/x-python",
   "name": "python",
   "nbconvert_exporter": "python",
   "pygments_lexer": "ipython3",
   "version": "3.5.2"
  },
  "widgets": {
   "state": {},
   "version": "1.1.2"
  }
 },
 "nbformat": 4,
 "nbformat_minor": 2
}
